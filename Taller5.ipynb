{
  "nbformat": 4,
  "nbformat_minor": 0,
  "metadata": {
    "colab": {
      "provenance": [],
      "authorship_tag": "ABX9TyM4mm01GBqL6frtWIMs4MKj",
      "include_colab_link": true
    },
    "kernelspec": {
      "name": "python3",
      "display_name": "Python 3"
    },
    "language_info": {
      "name": "python"
    }
  },
  "cells": [
    {
      "cell_type": "markdown",
      "metadata": {
        "id": "view-in-github",
        "colab_type": "text"
      },
      "source": [
        "<a href=\"https://colab.research.google.com/github/ManuelP2002/cd-manuel-portilla-2023/blob/main/Taller5.ipynb\" target=\"_parent\"><img src=\"https://colab.research.google.com/assets/colab-badge.svg\" alt=\"Open In Colab\"/></a>"
      ]
    },
    {
      "cell_type": "code",
      "execution_count": 2,
      "metadata": {
        "colab": {
          "base_uri": "https://localhost:8080/"
        },
        "id": "tzEqNs4bPVNm",
        "outputId": "6baf8e27-d4c4-48f7-d1d1-2c4c2ed6a3c1"
      },
      "outputs": [
        {
          "output_type": "stream",
          "name": "stdout",
          "text": [
            "Total de puntos dentro de una distancia de 1 o menos: 785704\n",
            "Valor final: 3.142816\n"
          ]
        }
      ],
      "source": [
        "import numpy as np\n",
        "\n",
        "# Número de puntos a generar\n",
        "n_puntos = 1000000\n",
        "\n",
        "# Generar puntos aleatorios en el rango [0, 1) x [0, 1)\n",
        "puntos = np.random.rand(n_puntos, 2)\n",
        "\n",
        "# Inicializar el contador\n",
        "contador = 0\n",
        "\n",
        "# Calcular la distancia euclidiana de cada punto al origen (0, 0)\n",
        "for punto in puntos:\n",
        "    distancia = np.linalg.norm(punto)\n",
        "    if distancia <= 1:\n",
        "        contador += 1\n",
        "\n",
        "# Imprimir el resultado\n",
        "print(f\"Total de puntos dentro de una distancia de 1 o menos: {contador}\")\n",
        "print(f\"Valor final: {4*(contador/n_puntos)}\")"
      ]
    },
    {
      "cell_type": "code",
      "source": [
        "# Número de puntos a generar\n",
        "n_puntos = 1000000\n",
        "\n",
        "# Inicializar el contador\n",
        "contador = 0\n",
        "\n",
        "# Tamaño de paso\n",
        "paso = 1/999\n",
        "\n",
        "# Generar puntos con un tamaño de paso de 1/999 y contar los puntos dentro del círculo\n",
        "for i in range(1000):\n",
        "    x = i * paso\n",
        "    for j in range(1000):\n",
        "        y = j * paso\n",
        "        distancia = x**2 + y**2  # Distancia al cuadrado desde el origen (0,0)\n",
        "        if distancia <= 1:\n",
        "            contador += 1\n",
        "\n",
        "# Estimar el área del círculo y del cuadrado\n",
        "area_circulo = contador / (1000 * 1000)\n",
        "area_cuadrado = 1\n",
        "\n",
        "# Estimar el valor de pi\n",
        "estimacion_pi = 4 * area_circulo\n",
        "\n",
        "# Imprimir el resultado\n",
        "print(f\"Estimación de pi usando el método de Montecarlo con tamaño de paso de 1/999: {estimacion_pi}\")\n",
        "print(f\"El numero de puntos con una distancia de 1 o menos es: {contador}\")"
      ],
      "metadata": {
        "colab": {
          "base_uri": "https://localhost:8080/"
        },
        "id": "SR5u8JVcSE-J",
        "outputId": "c4070739-243e-4a5f-b22d-4bb1f64cc5db"
      },
      "execution_count": 7,
      "outputs": [
        {
          "output_type": "stream",
          "name": "stdout",
          "text": [
            "Estimación de pi usando el método de Montecarlo con tamaño de paso de 1/999: 3.139156\n",
            "El numero de puntos con una distancia de 1 o menos es: 784789\n"
          ]
        }
      ]
    }
  ]
}